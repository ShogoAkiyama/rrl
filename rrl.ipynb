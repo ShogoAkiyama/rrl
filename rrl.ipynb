{
 "cells": [
  {
   "cell_type": "markdown",
   "metadata": {},
   "source": [
    "# インポート"
   ]
  },
  {
   "cell_type": "code",
   "execution_count": 1,
   "metadata": {},
   "outputs": [
    {
     "name": "stderr",
     "output_type": "stream",
     "text": [
      "WARNING:root:This caffe2 python run does not have GPU support. Will run in CPU only mode.\n"
     ]
    }
   ],
   "source": [
    "import pandas as pd\n",
    "import numpy as np\n",
    "import matplotlib.pyplot as plt\n",
    "%matplotlib inline\n",
    "\n",
    "import torch\n",
    "import torch.nn as nn\n",
    "import torch.nn.functional as F\n",
    "import torch.optim as optim\n",
    "from torch.utils.tensorboard import SummaryWriter"
   ]
  },
  {
   "cell_type": "markdown",
   "metadata": {},
   "source": [
    "# データの用意"
   ]
  },
  {
   "cell_type": "code",
   "execution_count": 229,
   "metadata": {},
   "outputs": [],
   "source": [
    "df = pd.read_csv(\"./data/^N225.csv\")\n",
    "\n",
    "df.index = pd.to_datetime(df[\"Date\"])\n",
    "df = df.drop([\"Date\"], axis=1)\n",
    "df = df.dropna()\n",
    "df['logr'] = (np.log(df['Adj Close']) - np.log(df['Adj Close'].shift(1))) * 100.0\n",
    "df = df.dropna()\n",
    "train_df = df[(df.index.year>=2000) & (df.index.year<=2005)]\n",
    "test_df = df[(df.index.year>=2006) & (df.index.year<=2010)]\n",
    "train_logr = train_df['logr'].values\n",
    "test_logr = test_df['logr'].values"
   ]
  },
  {
   "cell_type": "code",
   "execution_count": 230,
   "metadata": {},
   "outputs": [],
   "source": [
    "n_state = 20\n",
    "train_X = []\n",
    "train_y = []\n",
    "for i in range(len(train_logr) - n_state):\n",
    "    train_X.append(train_logr[i:i+n_state])\n",
    "    train_y.append(train_logr[i+n_state])\n",
    "train_X = np.array(train_X)\n",
    "train_y = np.array(train_y)"
   ]
  },
  {
   "cell_type": "code",
   "execution_count": 231,
   "metadata": {},
   "outputs": [],
   "source": [
    "n_state = 20\n",
    "test_X = []\n",
    "test_y = []\n",
    "for i in range(len(test_logr) - n_state):\n",
    "    test_X.append(test_logr[i:i+n_state])\n",
    "    test_y.append(test_logr[i+n_state])\n",
    "test_X = np.array(test_X)\n",
    "test_y = np.array(test_y)"
   ]
  },
  {
   "cell_type": "markdown",
   "metadata": {},
   "source": [
    "# ネットワークの作成"
   ]
  },
  {
   "cell_type": "code",
   "execution_count": 251,
   "metadata": {},
   "outputs": [],
   "source": [
    "class Network(nn.Module):\n",
    "    def __init__(self, n_state):\n",
    "        super(Network, self).__init__()\n",
    "        self.n_state = n_state\n",
    "        hidden_size = 100\n",
    "\n",
    "        self.rnn = nn.RNN(self.n_state, \n",
    "                          hidden_size, \n",
    "                          num_layers=1,\n",
    "                          dropout=0.5)\n",
    "\n",
    "        self.out_layer = nn.Sequential(\n",
    "            nn.Linear(100+1, 1),\n",
    "        )\n",
    "\n",
    "    def initHidden(self):\n",
    "        self.c = torch.zeros(1, 1, 100)\n",
    "    \n",
    "    def forward(self, x, prev_act):\n",
    "        h, c = self.rnn(x, self.c)\n",
    "        self.c = c.clone().detach()\n",
    "        h = torch.cat([h[0], prev_act], dim=1)\n",
    "        z = torch.tanh(self.out_layer(h))\n",
    "        return z"
   ]
  },
  {
   "cell_type": "markdown",
   "metadata": {},
   "source": [
    "# 実行"
   ]
  },
  {
   "cell_type": "code",
   "execution_count": 252,
   "metadata": {},
   "outputs": [
    {
     "name": "stderr",
     "output_type": "stream",
     "text": [
      "//anaconda3/lib/python3.7/site-packages/ipykernel_launcher.py:9: UserWarning: To copy construct from a tensor, it is recommended to use sourceTensor.clone().detach() or sourceTensor.clone().detach().requires_grad_(True), rather than torch.tensor(sourceTensor).\n",
      "  if __name__ == '__main__':\n",
      "//anaconda3/lib/python3.7/site-packages/ipykernel_launcher.py:10: UserWarning: To copy construct from a tensor, it is recommended to use sourceTensor.clone().detach() or sourceTensor.clone().detach().requires_grad_(True), rather than torch.tensor(sourceTensor).\n",
      "  # Remove the CWD from sys.path while we load stuff.\n",
      "//anaconda3/lib/python3.7/site-packages/ipykernel_launcher.py:11: UserWarning: To copy construct from a tensor, it is recommended to use sourceTensor.clone().detach() or sourceTensor.clone().detach().requires_grad_(True), rather than torch.tensor(sourceTensor).\n",
      "  # This is added back by InteractiveShellApp.init_path()\n",
      "//anaconda3/lib/python3.7/site-packages/ipykernel_launcher.py:12: UserWarning: To copy construct from a tensor, it is recommended to use sourceTensor.clone().detach() or sourceTensor.clone().detach().requires_grad_(True), rather than torch.tensor(sourceTensor).\n",
      "  if sys.path[0] == '':\n"
     ]
    }
   ],
   "source": [
    "# create network\n",
    "device = torch.device('cuda' if torch.cuda.is_available() else 'cpu')\n",
    "net = Network(n_state)\n",
    "if device == 'cuda':\n",
    "    net.cuda()\n",
    "optimizer = optim.Adam(net.parameters(), lr=1e-2)\n",
    "\n",
    "# Tensor \n",
    "train_X_var = torch.tensor(torch.from_numpy(train_X), device=device, dtype=torch.float)\n",
    "train_y_var = torch.tensor(torch.from_numpy(train_y), device=device, dtype=torch.float).view(-1, 1)\n",
    "test_X_var  = torch.tensor(torch.from_numpy(test_X), device=device, dtype=torch.float)\n",
    "test_y_var  = torch.tensor(torch.from_numpy(test_y), device=device, dtype=torch.float).view(-1, 1)\n",
    "\n",
    "# loss function\n",
    "def sharpe_ratio(act_hist, target):\n",
    "    R = act_hist[:-1] * train_y_var[:-1] - 1.0e-3*100*torch.abs(act_hist[1:] - act_hist[:-1])\n",
    "    sharpe = torch.mean(R) / torch.std(R)\n",
    "    return sharpe"
   ]
  },
  {
   "cell_type": "code",
   "execution_count": null,
   "metadata": {
    "scrolled": false
   },
   "outputs": [
    {
     "name": "stdout",
     "output_type": "stream",
     "text": [
      "epoch: 0 sharpe: -0.09288709610700607\n",
      "epoch: 10 sharpe: 0.07625691592693329\n",
      "epoch: 20 sharpe: 0.15375052392482758\n",
      "epoch: 30 sharpe: 0.24914099276065826\n",
      "epoch: 40 sharpe: 0.419140487909317\n",
      "epoch: 50 sharpe: 0.5832639932632446\n",
      "epoch: 60 sharpe: 0.7405966520309448\n",
      "epoch: 70 sharpe: 0.8640815615653992\n",
      "epoch: 80 sharpe: 0.9490194320678711\n",
      "epoch: 90 sharpe: 0.9932540059089661\n",
      "epoch: 100 sharpe: 1.0909680128097534\n",
      "epoch: 110 sharpe: 1.1154804229736328\n",
      "epoch: 120 sharpe: 1.1780731678009033\n",
      "epoch: 130 sharpe: 1.1976479291915894\n",
      "epoch: 140 sharpe: 1.265261173248291\n",
      "epoch: 150 sharpe: 1.2872360944747925\n",
      "epoch: 160 sharpe: 1.2663238048553467\n",
      "epoch: 170 sharpe: 1.3043766021728516\n",
      "epoch: 180 sharpe: 1.3425387144088745\n",
      "epoch: 190 sharpe: 1.2947393655776978\n",
      "epoch: 200 sharpe: 1.3248114585876465\n",
      "epoch: 210 sharpe: 1.340320110321045\n",
      "epoch: 220 sharpe: 1.4032721519470215\n",
      "epoch: 230 sharpe: 1.3887159824371338\n",
      "epoch: 240 sharpe: 1.4114954471588135\n",
      "epoch: 250 sharpe: 1.3988122940063477\n",
      "epoch: 260 sharpe: 1.4258323907852173\n",
      "epoch: 270 sharpe: 1.4076135158538818\n",
      "epoch: 280 sharpe: 1.4433460235595703\n",
      "epoch: 290 sharpe: 1.4609922170639038\n",
      "epoch: 300 sharpe: 1.4337282180786133\n",
      "epoch: 310 sharpe: 1.4540839195251465\n",
      "epoch: 320 sharpe: 1.4397965669631958\n",
      "epoch: 330 sharpe: 1.4469716548919678\n",
      "epoch: 340 sharpe: 1.3804246187210083\n",
      "epoch: 350 sharpe: 1.4423301219940186\n",
      "epoch: 360 sharpe: 1.4627844095230103\n",
      "epoch: 370 sharpe: 1.474141240119934\n",
      "epoch: 380 sharpe: 1.451677918434143\n",
      "epoch: 390 sharpe: 1.423434853553772\n",
      "epoch: 400 sharpe: 1.407535195350647\n",
      "epoch: 410 sharpe: 1.4177006483078003\n",
      "epoch: 420 sharpe: 1.4453448057174683\n"
     ]
    }
   ],
   "source": [
    "cumsum_list = []\n",
    "\n",
    "writer = SummaryWriter('./logs')\n",
    "\n",
    "action_space = 1\n",
    "n_epochs = 500\n",
    "for epoch in range(n_epochs):\n",
    "    \n",
    "    prev_act = torch.tensor([[0.0]])\n",
    "    act_hist = torch.zeros(len(train_y_var)).view(-1, 1)\n",
    "    net.initHidden()\n",
    "\n",
    "    for i, X in enumerate(train_X_var):\n",
    "        X = X.view(1,1,-1)\n",
    "\n",
    "        if i % action_space == 0:\n",
    "            act = net(X, prev_act)\n",
    "\n",
    "        act_hist[i] = act\n",
    "        prev_act = act\n",
    "\n",
    "    sharpe = sharpe_ratio(act_hist, train_y_var)\n",
    "    if epoch % 10 == 0:\n",
    "        print('epoch: {} sharpe: {}'.format(epoch, sharpe.item()))\n",
    "\n",
    "    # update parameter\n",
    "    sharpe = -sharpe\n",
    "    optimizer.zero_grad()\n",
    "    sharpe.backward()\n",
    "    optimizer.step()"
   ]
  },
  {
   "cell_type": "markdown",
   "metadata": {},
   "source": [
    "# 訓練期間"
   ]
  },
  {
   "cell_type": "code",
   "execution_count": null,
   "metadata": {},
   "outputs": [],
   "source": [
    "net.eval()\n",
    "train_act_hist = torch.zeros_like(train_y_var)\n",
    "prev_act = torch.tensor([[0.0]])\n",
    "net.initHidden()\n",
    "for i, X in enumerate(train_X_var):\n",
    "    X = X.view(1,1,-1)\n",
    "    with torch.no_grad():\n",
    "        act = net(X, prev_act)\n",
    "    train_act_hist[i] = act\n",
    "\n",
    "    prev_act = act"
   ]
  },
  {
   "cell_type": "code",
   "execution_count": null,
   "metadata": {},
   "outputs": [],
   "source": [
    "plt.plot((train_act_hist * train_y_var).numpy().flatten().cumsum())"
   ]
  },
  {
   "cell_type": "code",
   "execution_count": null,
   "metadata": {},
   "outputs": [],
   "source": [
    "plt.plot(train_y.cumsum())"
   ]
  },
  {
   "cell_type": "code",
   "execution_count": null,
   "metadata": {},
   "outputs": [],
   "source": [
    "plt.plot(train_act_hist.flatten())\n",
    "print('buy:  ', len(train_act_hist[train_act_hist>0]))\n",
    "print('sell: ', len(train_act_hist[train_act_hist<0]))"
   ]
  },
  {
   "cell_type": "markdown",
   "metadata": {},
   "source": [
    "# テスト期間"
   ]
  },
  {
   "cell_type": "code",
   "execution_count": 247,
   "metadata": {},
   "outputs": [],
   "source": [
    "net.eval()\n",
    "test_act_hist = torch.zeros_like(test_y_var)\n",
    "prev_act = torch.tensor([[0.0]])\n",
    "net.initHidden()\n",
    "for i, X in enumerate(test_X_var):\n",
    "    X = X.view(1,1,-1)\n",
    "    with torch.no_grad():\n",
    "        act = net(X, prev_act)\n",
    "    test_act_hist[i] = act\n",
    "\n",
    "    prev_act = act"
   ]
  },
  {
   "cell_type": "code",
   "execution_count": 248,
   "metadata": {},
   "outputs": [
    {
     "name": "stdout",
     "output_type": "stream",
     "text": [
      "buy:   620\n",
      "sell:  583\n"
     ]
    },
    {
     "data": {
      "image/png": "[encoded data removed]",
      "text/plain": [
       "<Figure size 432x288 with 1 Axes>"
      ]
     },
     "metadata": {
      "needs_background": "light"
     },
     "output_type": "display_data"
    }
   ],
   "source": [
    "plt.plot((test_act_hist * test_y_var).numpy().flatten().cumsum())\n",
    "print('buy:  ', len(test_act_hist[test_act_hist>0]))\n",
    "print('sell: ', len(test_act_hist[test_act_hist<0]))"
   ]
  },
  {
   "cell_type": "code",
   "execution_count": 249,
   "metadata": {},
   "outputs": [
    {
     "data": {
      "text/plain": [
       "[<matplotlib.lines.Line2D at 0x12a6312e8>]"
      ]
     },
     "execution_count": 249,
     "metadata": {},
     "output_type": "execute_result"
    },
    {
     "data": {
      "image/png": "[encoded data removed]",
      "text/plain": [
       "<Figure size 432x288 with 1 Axes>"
      ]
     },
     "metadata": {
      "needs_background": "light"
     },
     "output_type": "display_data"
    }
   ],
   "source": [
    "plt.plot(test_y.cumsum())"
   ]
  },
  {
   "cell_type": "code",
   "execution_count": 250,
   "metadata": {},
   "outputs": [
    {
     "name": "stdout",
     "output_type": "stream",
     "text": [
      "buy:   620\n",
      "sell:  583\n"
     ]
    },
    {
     "data": {
      "image/png": "[encoded data removed]",
      "text/plain": [
       "<Figure size 432x288 with 1 Axes>"
      ]
     },
     "metadata": {
      "needs_background": "light"
     },
     "output_type": "display_data"
    }
   ],
   "source": [
    "plt.plot(test_act_hist.flatten())\n",
    "print('buy:  ', len(test_act_hist[test_act_hist>0]))\n",
    "print('sell: ', len(test_act_hist[test_act_hist<0]))"
   ]
  },
  {
   "cell_type": "code",
   "execution_count": null,
   "metadata": {},
   "outputs": [],
   "source": []
  },
  {
   "cell_type": "code",
   "execution_count": null,
   "metadata": {},
   "outputs": [],
   "source": []
  },
  {
   "cell_type": "code",
   "execution_count": null,
   "metadata": {},
   "outputs": [],
   "source": []
  }
 ],
 "metadata": {
  "kernelspec": {
   "display_name": "Python 3",
   "language": "python",
   "name": "python3"
  },
  "language_info": {
   "codemirror_mode": {
    "name": "ipython",
    "version": 3
   },
   "file_extension": ".py",
   "mimetype": "text/x-python",
   "name": "python",
   "nbconvert_exporter": "python",
   "pygments_lexer": "ipython3",
   "version": "3.7.3"
  }
 },
 "nbformat": 4,
 "nbformat_minor": 2
}
